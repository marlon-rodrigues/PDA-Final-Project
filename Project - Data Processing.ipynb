{
 "cells": [
  {
   "cell_type": "code",
   "execution_count": 1,
   "metadata": {},
   "outputs": [
    {
     "name": "stdout",
     "output_type": "stream",
     "text": [
      "2.4.0\n"
     ]
    }
   ],
   "source": [
    "print(sc.version)"
   ]
  },
  {
   "cell_type": "code",
   "execution_count": 2,
   "metadata": {},
   "outputs": [
    {
     "name": "stdout",
     "output_type": "stream",
     "text": [
      "+--------------------+------------+\n",
      "|        Project Type|       Total|\n",
      "+--------------------+------------+\n",
      "|         Teacher-Led|276414228.33|\n",
      "|Professional Deve...|  2491235.29|\n",
      "|         Student-Led|  2713256.98|\n",
      "+--------------------+------------+\n",
      "\n"
     ]
    }
   ],
   "source": [
    "# Get Project Type that Receive most donations\n",
    "dfProjectType=spark.sql(\"SELECT ProjectsHiveTable.`Project Type`, \\\n",
    "             SUM(CAST(DonationsHiveTable.`Donation Amount` AS DECIMAL(10,2))) AS Total \\\n",
    "             from ProjectsHiveTable JOIN DonationsHiveTable ON \\\n",
    "             ProjectsHiveTable.`Project ID` = DonationsHiveTable.`Project ID` \\\n",
    "             GROUP BY ProjectsHiveTable.`Project Type`\")\n",
    "dfProjectType.show()"
   ]
  },
  {
   "cell_type": "code",
   "execution_count": 3,
   "metadata": {},
   "outputs": [
    {
     "data": {
      "text/plain": [
       "DataFrame[]"
      ]
     },
     "execution_count": 3,
     "metadata": {},
     "output_type": "execute_result"
    }
   ],
   "source": [
    "# Create Hive table with results\n",
    "dfProjectType.createOrReplaceTempView(\"ProjectTypeTempTable\")\n",
    "spark.sql(\"create table ResultsProjectTypeTable as select * from ProjectTypeTempTable\")"
   ]
  },
  {
   "cell_type": "code",
   "execution_count": 6,
   "metadata": {},
   "outputs": [
    {
     "name": "stdout",
     "output_type": "stream",
     "text": [
      "+----------------+------------+\n",
      "|Donor is Teacher|       Total|\n",
      "+----------------+------------+\n",
      "|              No|223064734.47|\n",
      "|             Yes| 61006942.31|\n",
      "+----------------+------------+\n",
      "\n"
     ]
    }
   ],
   "source": [
    "# Correlation of Teachers and Non Teachers Donations - Teachers Data\n",
    "dfDonorType=spark.sql(\"SELECT DonorsHiveTable.`Donor is Teacher`, \\\n",
    "              SUM(CAST(DonationsHiveTable.`Donation Amount` AS DECIMAL(10,2))) AS Total \\\n",
    "              FROM DonationsHiveTable JOIN DonorsHiveTable ON \\\n",
    "              DonorsHiveTable.`Donor ID` = DonationsHiveTable.`Donor ID` \\\n",
    "              GROUP BY DonorsHiveTable.`Donor is Teacher`\")\n",
    "dfDonorType.show()"
   ]
  },
  {
   "cell_type": "code",
   "execution_count": 7,
   "metadata": {},
   "outputs": [
    {
     "data": {
      "text/plain": [
       "DataFrame[]"
      ]
     },
     "execution_count": 7,
     "metadata": {},
     "output_type": "execute_result"
    }
   ],
   "source": [
    "# Create Hive table with results\n",
    "dfDonorType.createOrReplaceTempView(\"DonorTypeTempTable\")\n",
    "spark.sql(\"create table ResultsDonorTypeTable as select * from DonorTypeTempTable\")"
   ]
  },
  {
   "cell_type": "code",
   "execution_count": 8,
   "metadata": {},
   "outputs": [
    {
     "name": "stdout",
     "output_type": "stream",
     "text": [
      "+--------------+-----------+\n",
      "|Teacher Prefix|      Total|\n",
      "+--------------+-----------+\n",
      "|           Ms.|20839892.59|\n",
      "|       Teacher|  703063.40|\n",
      "|          null|    2271.07|\n",
      "|           Mr.|10140481.41|\n",
      "|          Mrs.|26423783.32|\n",
      "|           Dr.|   25687.58|\n",
      "|           Mx.|    5859.35|\n",
      "+--------------+-----------+\n",
      "\n"
     ]
    }
   ],
   "source": [
    "# Correlation of Males and Females Teachers Donations\n",
    "dfTeachersGender=spark.sql(\"SELECT TeachersHiveTable.`Teacher Prefix`, \\\n",
    "              SUM(CAST(DonationsHiveTable.`Donation Amount` AS DECIMAL(10,2))) AS Total \\\n",
    "              FROM DonationsHiveTable JOIN TeachersHiveTable ON \\\n",
    "              TeachersHiveTable.`Teacher ID` = DonationsHiveTable.`Donor ID` \\\n",
    "              GROUP BY TeachersHiveTable.`Teacher Prefix`\")\n",
    "dfTeachersGender.show()"
   ]
  },
  {
   "cell_type": "code",
   "execution_count": 9,
   "metadata": {},
   "outputs": [
    {
     "data": {
      "text/plain": [
       "DataFrame[]"
      ]
     },
     "execution_count": 9,
     "metadata": {},
     "output_type": "execute_result"
    }
   ],
   "source": [
    "# Create Hive table with results\n",
    "dfTeachersGender.createOrReplaceTempView(\"TeachersGenderTempTable\")\n",
    "spark.sql(\"create table ResultsTeachersGenderTable as select * from TeachersGenderTempTable\")"
   ]
  },
  {
   "cell_type": "code",
   "execution_count": 11,
   "metadata": {},
   "outputs": [
    {
     "name": "stdout",
     "output_type": "stream",
     "text": [
      "+--------------------+-----------+\n",
      "|Donor State         |Total      |\n",
      "+--------------------+-----------+\n",
      "|Utah                |2755841.98 |\n",
      "|Hawaii              |1397935.03 |\n",
      "|Minnesota           |3604963.49 |\n",
      "|Ohio                |5625645.80 |\n",
      "|Arkansas            |1432189.74 |\n",
      "|Oregon              |3965820.04 |\n",
      "|Texas               |17392010.06|\n",
      "|North Dakota        |349755.14  |\n",
      "|Pennsylvania        |8719832.46 |\n",
      "|Connecticut         |4546151.53 |\n",
      "|Nebraska            |670643.94  |\n",
      "|Vermont             |384306.38  |\n",
      "|Nevada              |2348658.13 |\n",
      "|Washington          |7437949.12 |\n",
      "|Illinois            |14838197.91|\n",
      "|Oklahoma            |4106344.41 |\n",
      "|other               |7993566.28 |\n",
      "|District of Columbia|1811878.20 |\n",
      "|Delaware            |915053.54  |\n",
      "|Alaska              |669350.43  |\n",
      "|New Mexico          |1089004.25 |\n",
      "|West Virginia       |812536.38  |\n",
      "|Missouri            |4035165.36 |\n",
      "|Rhode Island        |802152.86  |\n",
      "|Georgia             |7719309.94 |\n",
      "|Montana             |687270.29  |\n",
      "|Michigan            |6708546.13 |\n",
      "|Virginia            |6845924.16 |\n",
      "|North Carolina      |11088914.99|\n",
      "|Wyoming             |232148.85  |\n",
      "|Kansas              |1461634.08 |\n",
      "|New Jersey          |7146562.01 |\n",
      "|Maryland            |5248575.84 |\n",
      "|Alabama             |2538167.31 |\n",
      "|Arizona             |5093127.47 |\n",
      "|Iowa                |1304088.90 |\n",
      "|Massachusetts       |11200095.25|\n",
      "|Kentucky            |2025661.85 |\n",
      "|Louisiana           |3004789.36 |\n",
      "|Mississippi         |1582958.38 |\n",
      "|New Hampshire       |1126144.62 |\n",
      "|Tennessee           |3695037.83 |\n",
      "|Florida             |13597443.51|\n",
      "|Indiana             |5568257.26 |\n",
      "|Idaho               |1033819.87 |\n",
      "|South Carolina      |5543905.55 |\n",
      "|South Dakota        |479454.60  |\n",
      "|California          |46564797.79|\n",
      "|New York            |24532648.52|\n",
      "|Wisconsin           |3896673.12 |\n",
      "|Colorado            |5074027.28 |\n",
      "|Maine               |1366739.56 |\n",
      "+--------------------+-----------+\n",
      "\n"
     ]
    }
   ],
   "source": [
    "# State with most make donations\n",
    "dfDonationsMadeByState=spark.sql(\"SELECT DonorsHiveTable.`Donor State`, \\\n",
    "                                 SUM(CAST(DonationsHiveTable.`Donation Amount` AS DECIMAL(10,2))) AS Total \\\n",
    "                                 FROM DonationsHiveTable JOIN DonorsHiveTable ON \\\n",
    "                                 DonorsHiveTable.`Donor ID` = DonationsHiveTable.`Donor ID` \\\n",
    "                                 GROUP BY DonorsHiveTable.`Donor State`\")\n",
    "dfDonationsMadeByState.show(dfDonationsMadeByState.count(), False)"
   ]
  },
  {
   "cell_type": "code",
   "execution_count": 12,
   "metadata": {},
   "outputs": [
    {
     "data": {
      "text/plain": [
       "DataFrame[]"
      ]
     },
     "execution_count": 12,
     "metadata": {},
     "output_type": "execute_result"
    }
   ],
   "source": [
    "# Create Hive table with results\n",
    "dfDonationsMadeByState.createOrReplaceTempView(\"DonationsMadeByStateTempTable\")\n",
    "spark.sql(\"create table ResultsDonationsMadeByStateTable as select * from DonationsMadeByStateTempTable\")"
   ]
  },
  {
   "cell_type": "code",
   "execution_count": 13,
   "metadata": {},
   "outputs": [
    {
     "name": "stdout",
     "output_type": "stream",
     "text": [
      "+--------------------+-----------+\n",
      "|School State        |Total      |\n",
      "+--------------------+-----------+\n",
      "|Utah                |3108568.37 |\n",
      "|Hawaii              |2019575.50 |\n",
      "|Minnesota           |3414589.27 |\n",
      "|Ohio                |5720818.77 |\n",
      "|Oregon              |4075159.99 |\n",
      "|Arkansas            |1784650.09 |\n",
      "|Texas               |17539223.58|\n",
      "|North Dakota        |356774.25  |\n",
      "|Pennsylvania        |8333432.70 |\n",
      "|Connecticut         |4615298.66 |\n",
      "|Vermont             |394128.26  |\n",
      "|Nebraska            |646896.23  |\n",
      "|Nevada              |2773494.78 |\n",
      "|Washington          |6441378.47 |\n",
      "|Illinois            |15542406.18|\n",
      "|Oklahoma            |5231957.03 |\n",
      "|District of Columbia|2129021.31 |\n",
      "|Delaware            |919433.67  |\n",
      "|Alaska              |899257.67  |\n",
      "|New Mexico          |1288396.57 |\n",
      "|West Virginia       |1158237.59 |\n",
      "|Missouri            |4894340.48 |\n",
      "|Rhode Island        |1113406.14 |\n",
      "|Georgia             |8297850.00 |\n",
      "|Montana             |815422.36  |\n",
      "|Virginia            |5750947.28 |\n",
      "|Michigan            |7723099.32 |\n",
      "|North Carolina      |12770353.34|\n",
      "|Wyoming             |418305.98  |\n",
      "|Kansas              |1391957.32 |\n",
      "|New Jersey          |6018905.16 |\n",
      "|Maryland            |4619365.45 |\n",
      "|Alabama             |3477686.44 |\n",
      "|Arizona             |5488148.20 |\n",
      "|Iowa                |1318859.08 |\n",
      "|Massachusetts       |9802350.64 |\n",
      "|Kentucky            |2429692.67 |\n",
      "|Louisiana           |4247226.66 |\n",
      "|Mississippi         |2361205.41 |\n",
      "|New Hampshire       |1076746.33 |\n",
      "|Tennessee           |4137856.88 |\n",
      "|Indiana             |5801988.33 |\n",
      "|Florida             |13745330.36|\n",
      "|Idaho               |1239087.08 |\n",
      "|South Carolina      |7081443.51 |\n",
      "|South Dakota        |696584.18  |\n",
      "|California          |45179799.53|\n",
      "|New York            |21583224.84|\n",
      "|Wisconsin           |4022628.08 |\n",
      "|Colorado            |4147974.88 |\n",
      "|Maine               |1572823.37 |\n",
      "+--------------------+-----------+\n",
      "\n"
     ]
    }
   ],
   "source": [
    "# State with most received donations\n",
    "dfDonationsByState=spark.sql(\"SELECT SchoolsHiveTable.`School State`, \\\n",
    "                             SUM(CAST(DonationsHiveTable.`Donation Amount` AS DECIMAL(10,2))) AS Total \\\n",
    "                             FROM DonationsHiveTable \\\n",
    "                             JOIN ProjectsHiveTable ON \\\n",
    "                             DonationsHiveTable.`Project ID` = ProjectsHiveTable.`Project ID` \\\n",
    "                             JOIN SchoolsHiveTable ON \\\n",
    "                             SchoolsHiveTable.`School ID` = ProjectsHiveTable.`School ID` \\\n",
    "                             GROUP BY SchoolsHiveTable.`School State`\")\n",
    "dfDonationsByState.show(dfDonationsByState.count(), False)"
   ]
  },
  {
   "cell_type": "code",
   "execution_count": 14,
   "metadata": {},
   "outputs": [
    {
     "data": {
      "text/plain": [
       "DataFrame[]"
      ]
     },
     "execution_count": 14,
     "metadata": {},
     "output_type": "execute_result"
    }
   ],
   "source": [
    "# Create Hive table with results\n",
    "dfDonationsByState.createOrReplaceTempView(\"DonationsByStateTempTable\")\n",
    "spark.sql(\"create table ResultsDonationsByStateTable as select * from DonationsByStateTempTable\")"
   ]
  },
  {
   "cell_type": "code",
   "execution_count": 15,
   "metadata": {},
   "outputs": [
    {
     "name": "stdout",
     "output_type": "stream",
     "text": [
      "+-----------------+------------+\n",
      "|School Metro Type|       Total|\n",
      "+-----------------+------------+\n",
      "|          unknown| 22271045.27|\n",
      "|         suburban| 82873104.89|\n",
      "|             town| 11738111.95|\n",
      "|            rural| 26110253.26|\n",
      "|            urban|138624792.87|\n",
      "+-----------------+------------+\n",
      "\n"
     ]
    }
   ],
   "source": [
    "# School Type with most received donations\n",
    "dfSchoolType=spark.sql(\"SELECT SchoolsHiveTable.`School Metro Type`, \\\n",
    "                       SUM(CAST(DonationsHiveTable.`Donation Amount` AS DECIMAL(10,2))) AS Total \\\n",
    "                       FROM DonationsHiveTable \\\n",
    "                       JOIN ProjectsHiveTable ON \\\n",
    "                       DonationsHiveTable.`Project ID` = ProjectsHiveTable.`Project ID` \\\n",
    "                       JOIN SchoolsHiveTable ON \\\n",
    "                       SchoolsHiveTable.`School ID` = ProjectsHiveTable.`School ID` \\\n",
    "                       GROUP BY SchoolsHiveTable.`School Metro Type`\")\n",
    "dfSchoolType.show()"
   ]
  },
  {
   "cell_type": "code",
   "execution_count": 16,
   "metadata": {},
   "outputs": [
    {
     "data": {
      "text/plain": [
       "DataFrame[]"
      ]
     },
     "execution_count": 16,
     "metadata": {},
     "output_type": "execute_result"
    }
   ],
   "source": [
    "# Create Hive table with results\n",
    "dfSchoolType.createOrReplaceTempView(\"SchoolTypeTempTable\")\n",
    "spark.sql(\"create table ResultsSchoolTypeTable as select * from SchoolTypeTempTable\")"
   ]
  },
  {
   "cell_type": "code",
   "execution_count": 17,
   "metadata": {},
   "outputs": [
    {
     "name": "stdout",
     "output_type": "stream",
     "text": [
      "+-------------------------+-----------+\n",
      "|Project Resource Category|      Total|\n",
      "+-------------------------+-----------+\n",
      "|                    Books| 9873985.77|\n",
      "|               Technology|23669675.03|\n",
      "+-------------------------+-----------+\n",
      "\n"
     ]
    }
   ],
   "source": [
    "# Project Resource category - Books vs Techonology - that Receive most donations\n",
    "dfProjectResource=spark.sql(\"SELECT ProjectsHiveTable.`Project Resource Category`, \\\n",
    "             SUM(CAST(DonationsHiveTable.`Donation Amount` AS DECIMAL(10,2))) AS Total \\\n",
    "             from ProjectsHiveTable \\\n",
    "             JOIN DonationsHiveTable ON \\\n",
    "             ProjectsHiveTable.`Project ID` = DonationsHiveTable.`Project ID` \\\n",
    "             WHERE ProjectsHiveTable.`Project Resource Category` = 'Technology' \\\n",
    "             OR ProjectsHiveTable.`Project Resource Category` = 'Books' \\\n",
    "             GROUP BY ProjectsHiveTable.`Project Resource Category`\")\n",
    "dfProjectResource.show()"
   ]
  },
  {
   "cell_type": "code",
   "execution_count": 18,
   "metadata": {},
   "outputs": [
    {
     "data": {
      "text/plain": [
       "DataFrame[]"
      ]
     },
     "execution_count": 18,
     "metadata": {},
     "output_type": "execute_result"
    }
   ],
   "source": [
    "# Create Hive table with results\n",
    "dfProjectResource.createOrReplaceTempView(\"ProjectResourceTempTable\")\n",
    "spark.sql(\"create table ResultsProjetResourceTable as select * from ProjectResourceTempTable\")"
   ]
  },
  {
   "cell_type": "code",
   "execution_count": 24,
   "metadata": {},
   "outputs": [
    {
     "name": "stdout",
     "output_type": "stream",
     "text": [
      "+------------+-----------+\n",
      "|DonationYear|      Total|\n",
      "+------------+-----------+\n",
      "|        2018|26481196.48|\n",
      "|        2017|72872130.78|\n",
      "|        2016|62652231.24|\n",
      "|        2015|50488354.49|\n",
      "|        2014|41461266.85|\n",
      "|        2013|30428220.80|\n",
      "|        2012|   24842.64|\n",
      "+------------+-----------+\n",
      "\n"
     ]
    }
   ],
   "source": [
    "# Get Donations by Year\n",
    "dfDonationsByYear=spark.sql(\"SELECT SUBSTRING(DonationsHiveTable.`Donation Received Date`, 0,4) AS DonationYear, \\\n",
    "             SUM(CAST(DonationsHiveTable.`Donation Amount` AS DECIMAL(10,2))) AS Total \\\n",
    "             from DonationsHiveTable \\\n",
    "             GROUP BY DonationYear \\\n",
    "             ORDER BY DonationYear DESC\")\n",
    "dfDonationsByYear.show()"
   ]
  },
  {
   "cell_type": "code",
   "execution_count": 25,
   "metadata": {},
   "outputs": [
    {
     "data": {
      "text/plain": [
       "DataFrame[]"
      ]
     },
     "execution_count": 25,
     "metadata": {},
     "output_type": "execute_result"
    }
   ],
   "source": [
    "# Create Hive table with results\n",
    "dfDonationsByYear.createOrReplaceTempView(\"DonationsByYearTempTable\")\n",
    "spark.sql(\"create table ResultsDonationsByYearTable as select * from DonationsByYearTempTable\")"
   ]
  },
  {
   "cell_type": "code",
   "execution_count": 26,
   "metadata": {},
   "outputs": [
    {
     "name": "stdout",
     "output_type": "stream",
     "text": [
      "+------------+----------+\n",
      "|DonationDate|     Total|\n",
      "+------------+----------+\n",
      "|     2018-05|1506746.30|\n",
      "|     2018-04|6313794.97|\n",
      "|     2018-03|5757581.91|\n",
      "|     2018-02|5094398.32|\n",
      "|     2018-01|7808674.98|\n",
      "|     2017-12|8466878.98|\n",
      "|     2017-11|6887667.01|\n",
      "|     2017-10|7077864.75|\n",
      "|     2017-09|7588821.83|\n",
      "|     2017-08|9043762.30|\n",
      "|     2017-07|4826303.21|\n",
      "|     2017-06|2983810.52|\n",
      "|     2017-05|3721099.67|\n",
      "|     2017-04|3418379.81|\n",
      "|     2017-03|7160669.35|\n",
      "|     2017-02|5864177.41|\n",
      "|     2017-01|5832695.94|\n",
      "|     2016-12|8152607.93|\n",
      "|     2016-11|6271338.86|\n",
      "|     2016-10|5478470.10|\n",
      "+------------+----------+\n",
      "only showing top 20 rows\n",
      "\n"
     ]
    }
   ],
   "source": [
    "# Get Donations by Month/Year\n",
    "dfDonationsByDate=spark.sql(\"SELECT SUBSTRING(DonationsHiveTable.`Donation Received Date`, 0,7) AS DonationDate, \\\n",
    "             SUM(CAST(DonationsHiveTable.`Donation Amount` AS DECIMAL(10,2))) AS Total \\\n",
    "             from DonationsHiveTable \\\n",
    "             GROUP BY DonationDate \\\n",
    "             ORDER BY DonationDate DESC\")\n",
    "dfDonationsByDate.show()"
   ]
  },
  {
   "cell_type": "code",
   "execution_count": 27,
   "metadata": {},
   "outputs": [
    {
     "data": {
      "text/plain": [
       "DataFrame[]"
      ]
     },
     "execution_count": 27,
     "metadata": {},
     "output_type": "execute_result"
    }
   ],
   "source": [
    "# Create Hive table with results\n",
    "dfDonationsByDate.createOrReplaceTempView(\"DonationsByDateTempTable\")\n",
    "spark.sql(\"create table ResultsDonationsByDateTable as select * from DonationsByDateTempTable\")"
   ]
  },
  {
   "cell_type": "code",
   "execution_count": null,
   "metadata": {},
   "outputs": [],
   "source": []
  }
 ],
 "metadata": {
  "kernelspec": {
   "display_name": "Python 3",
   "language": "python",
   "name": "python3"
  },
  "language_info": {
   "codemirror_mode": {
    "name": "ipython",
    "version": 3
   },
   "file_extension": ".py",
   "mimetype": "text/x-python",
   "name": "python",
   "nbconvert_exporter": "python",
   "pygments_lexer": "ipython3",
   "version": "3.6.6"
  }
 },
 "nbformat": 4,
 "nbformat_minor": 2
}
