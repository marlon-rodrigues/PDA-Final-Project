{
 "cells": [
  {
   "cell_type": "code",
   "execution_count": 1,
   "metadata": {},
   "outputs": [
    {
     "name": "stdout",
     "output_type": "stream",
     "text": [
      "2.4.0\n"
     ]
    }
   ],
   "source": [
    "print(sc.version)"
   ]
  },
  {
   "cell_type": "code",
   "execution_count": 4,
   "metadata": {},
   "outputs": [
    {
     "name": "stdout",
     "output_type": "stream",
     "text": [
      "root\n",
      " |-- Teacher ID: string (nullable = true)\n",
      " |-- Teacher Prefix: string (nullable = true)\n",
      " |-- Teacher First Project Posted Date: timestamp (nullable = true)\n",
      "\n"
     ]
    }
   ],
   "source": [
    "# Load Teachers Data\n",
    "dfTeachers = spark.read.csv(\"hdfs://localhost:54310/user/hduser/project/Teachers.csv\", header=True, sep=',', inferSchema=True)\n",
    "dfTeachers.printSchema()"
   ]
  },
  {
   "cell_type": "code",
   "execution_count": 6,
   "metadata": {},
   "outputs": [
    {
     "name": "stdout",
     "output_type": "stream",
     "text": [
      "+--------------------+--------------+---------------------------------+\n",
      "|          Teacher ID|Teacher Prefix|Teacher First Project Posted Date|\n",
      "+--------------------+--------------+---------------------------------+\n",
      "|00000f7264c27ba6f...|          Mrs.|              2013-08-21 00:00:00|\n",
      "|00002d44003ed46b0...|          Mrs.|              2016-10-23 00:00:00|\n",
      "|00006084c3d92d904...|           Mr.|              2016-09-08 00:00:00|\n",
      "|0000a9af8b6b9cc9e...|           Ms.|              2015-10-25 00:00:00|\n",
      "|0000d4777d14b33a1...|           Ms.|              2017-02-10 00:00:00|\n",
      "|0000fc11407901bca...|          Mrs.|              2015-06-22 00:00:00|\n",
      "|0001349d10c5f4841...|           Mr.|              2018-04-23 00:00:00|\n",
      "|00013e221e932f517...|           Ms.|              2015-10-10 00:00:00|\n",
      "|0001757a2d3292b2e...|          Mrs.|              2011-10-28 00:00:00|\n",
      "|0001c6641864a240e...|           Mr.|              2013-04-19 00:00:00|\n",
      "|0001f63e9437ebbba...|          Mrs.|              2011-03-27 00:00:00|\n",
      "|000226bf2362b3ea9...|           Mr.|              2015-02-23 00:00:00|\n",
      "|000233fb8cbd3fcd2...|           Ms.|              2014-02-02 00:00:00|\n",
      "|000269000db818304...|           Mr.|              2014-07-03 00:00:00|\n",
      "|0002806acba3480d6...|          Mrs.|              2017-09-20 00:00:00|\n",
      "|0002945e378e83fde...|          Mrs.|              2017-09-08 00:00:00|\n",
      "|0002bcb9f69cd91cb...|          Mrs.|              2009-06-22 00:00:00|\n",
      "|0002d777804d485ad...|           Ms.|              2015-01-25 00:00:00|\n",
      "|00031ee2136eb1830...|          Mrs.|              2015-11-17 00:00:00|\n",
      "|000374c660f97034c...|          Mrs.|              2013-04-06 00:00:00|\n",
      "+--------------------+--------------+---------------------------------+\n",
      "only showing top 20 rows\n",
      "\n"
     ]
    }
   ],
   "source": [
    "dfTeachers.show()"
   ]
  },
  {
   "cell_type": "code",
   "execution_count": 7,
   "metadata": {},
   "outputs": [
    {
     "name": "stdout",
     "output_type": "stream",
     "text": [
      "root\n",
      " |-- School ID: string (nullable = true)\n",
      " |-- School Name: string (nullable = true)\n",
      " |-- School Metro Type: string (nullable = true)\n",
      " |-- School Percentage Free Lunch: integer (nullable = true)\n",
      " |-- School State: string (nullable = true)\n",
      " |-- School Zip: double (nullable = true)\n",
      " |-- School City: string (nullable = true)\n",
      " |-- School County: string (nullable = true)\n",
      " |-- School District: string (nullable = true)\n",
      "\n"
     ]
    }
   ],
   "source": [
    "# Load Schools Data\n",
    "dfSchools = spark.read.csv(\"hdfs://localhost:54310/user/hduser/project/Schools.csv\", header=True, sep=',', inferSchema=True)\n",
    "dfSchools.printSchema()"
   ]
  },
  {
   "cell_type": "code",
   "execution_count": 8,
   "metadata": {},
   "outputs": [
    {
     "name": "stdout",
     "output_type": "stream",
     "text": [
      "+--------------------+--------------------+-----------------+----------------------------+--------------+----------+-------------+--------------------+--------------------+\n",
      "|           School ID|         School Name|School Metro Type|School Percentage Free Lunch|  School State|School Zip|  School City|       School County|     School District|\n",
      "+--------------------+--------------------+-----------------+----------------------------+--------------+----------+-------------+--------------------+--------------------+\n",
      "|00003e0fdd601b8ea...|Capon Bridge Midd...|            rural|                          56| West Virginia|   26711.0| Capon Bridge|           Hampshire|Hampshire Co Scho...|\n",
      "|00004e32a448b4832...|The Woodlands Col...|            urban|                          41|         Texas|   77384.0|The Woodlands|          Montgomery|Conroe Ind School...|\n",
      "|0002021bb799f28de...|Samantha Smith El...|         suburban|                           2|    Washington|   98074.0|    Sammamish|                King|Lake Washington S...|\n",
      "|0004604f675212a8c...|Kingsbury Country...|          unknown|                          76|      Michigan|   48370.0|       Oxford|             Oakland|Michigan Dept Of ...|\n",
      "|0004c9d50bcf0cea9...|Redwater Elementa...|            rural|                          50|         Texas|   75573.0|     Redwater|               Bowie|Redwater Ind Sch ...|\n",
      "|0004ffe3558fd70d9...|Math & Science Su...|          unknown|                          63|       Arizona|   85706.0|       Tucson|                Pima|Arizona Dept Of E...|\n",
      "|000622b5ef4515b58...|Harbor Science & ...|            urban|                          17|      New York|   10029.0|New York City|New York (Manhattan)|New York Dept Of ...|\n",
      "|000630ab66464a738...|Spears Creek Chil...|          unknown|                          15|South Carolina|   29045.0|        Elgin|             Kershaw|Richland Co Schoo...|\n",
      "|00064eac8b3d1f6de...|Leadership Public...|            urban|                          46|    California|   95122.0|     San Jose|         Santa Clara|San Jose Unified ...|\n",
      "|0006658276977eeef...|Henking Primary S...|         suburban|                          29|      Illinois|   60025.0|     Glenview|                Cook|Glenview Cmty Con...|\n",
      "|00073384a6b6c7905...|J Lyndal Hughes E...|          unknown|                          26|         Texas|   76262.0|      Roanoke|              Denton|Northwest Ind Sch...|\n",
      "|00088700b1a74fdb0...|Oakville Elementa...|            rural|                          31|      Maryland|   20659.0|Mechanicsvlle|            St Marys|St Mary'S Co Publ...|\n",
      "|0009338d5927605c8...|Carroll Springs S...|         suburban|                          47|      Maryland|   21157.0|  Westminster|             Carroll|Carroll Co Public...|\n",
      "|0009f8a900cc0954f...|Wood View Element...|         suburban|                          70|      Illinois|   60440.0|  Bolingbrook|                Will|Valley View Cmty ...|\n",
      "|000a178f0bbfca85c...|Midway Elementary...|             town|                          61|     Tennessee|   37763.0|     Kingston|               Roane|Roane Co School D...|\n",
      "|000a21e544223a6cf...|Franklin High School|            rural|                          82|    California|   95215.0|     Stockton|         San Joaquin|Stockton Unif Sch...|\n",
      "|000a7d0f9cb24753f...|         PS 369K@117|          unknown|                          34|      New York|   11205.0|New York City|    Kings (Brooklyn)|         District 75|\n",
      "|000ab96e3cdf1e01b...|Yulee Primary School|          unknown|                          49|       Florida|   32097.0|        Yulee|              Nassau|Nassau Co School ...|\n",
      "|000b2f99863f25561...|Acadian Elementar...|            urban|                          95|     Louisiana|   71302.0|   Alexandria|             Rapides|Rapides Parish Sc...|\n",
      "|000c0fa590e420e0c...|Cessna Elementary...|            urban|                          86|        Kansas|   67217.0|      Wichita|            Sedgwick|Wichita Unified S...|\n",
      "+--------------------+--------------------+-----------------+----------------------------+--------------+----------+-------------+--------------------+--------------------+\n",
      "only showing top 20 rows\n",
      "\n"
     ]
    }
   ],
   "source": [
    "dfSchools.show()"
   ]
  },
  {
   "cell_type": "code",
   "execution_count": 9,
   "metadata": {},
   "outputs": [
    {
     "name": "stdout",
     "output_type": "stream",
     "text": [
      "root\n",
      " |-- Donor ID: string (nullable = true)\n",
      " |-- Donor City: string (nullable = true)\n",
      " |-- Donor State: string (nullable = true)\n",
      " |-- Donor Is Teacher: string (nullable = true)\n",
      " |-- Donor Zip: string (nullable = true)\n",
      "\n"
     ]
    }
   ],
   "source": [
    "# Load Donors Data\n",
    "dfDonors = spark.read.csv(\"hdfs://localhost:54310/user/hduser/project/Donors.csv\", header=True, sep=',', inferSchema=True)\n",
    "dfDonors.printSchema()"
   ]
  },
  {
   "cell_type": "code",
   "execution_count": 10,
   "metadata": {},
   "outputs": [
    {
     "name": "stdout",
     "output_type": "stream",
     "text": [
      "+--------------------+------------+--------------+----------------+---------+\n",
      "|            Donor ID|  Donor City|   Donor State|Donor Is Teacher|Donor Zip|\n",
      "+--------------------+------------+--------------+----------------+---------+\n",
      "|00000ce845c00cbf0...|    Evanston|      Illinois|              No|      602|\n",
      "|00002783bc5d10851...|  Appomattox|         other|              No|      245|\n",
      "|00002d44003ed46b0...|      Winton|    California|             Yes|      953|\n",
      "|00002eb25d60a09c3...|Indianapolis|       Indiana|              No|      462|\n",
      "|0000300773fe015f8...|    Paterson|    New Jersey|              No|      075|\n",
      "|00004c31ce07c2214...|        null|         other|              No|     null|\n",
      "|00004e32a448b4832...|    Stamford|   Connecticut|              No|      069|\n",
      "|00004fa20a986e60a...|   Green Bay|     Wisconsin|              No|      543|\n",
      "|00005454366b6b914...|      Argyle|      New York|              No|      128|\n",
      "|0000584b8cdaeaa6b...|  Valparaiso|       Indiana|              No|      463|\n",
      "|00005f52c98eeaf92...|   Villanova|  Pennsylvania|              No|      190|\n",
      "|00006084c3d92d904...|       Brick|    New Jersey|             Yes|      087|\n",
      "|00006c6b8c3225a54...|  Wilmington|      Delaware|              No|      198|\n",
      "|0000812bd5629117f...|    Pasadena|         Texas|              No|      775|\n",
      "|0000889adf4cc958a...|Mohegan Lake|      New York|              No|      105|\n",
      "|00008eec5aab22286...|    Old Fort|North Carolina|              No|      287|\n",
      "|0000954e7c49ebfbc...|      Quincy|      Illinois|              No|      623|\n",
      "|0000a1288b8ccdeaa...|        null|         other|              No|     null|\n",
      "|0000a2175753bc165...|Grand Rapids|      Michigan|              No|      495|\n",
      "|0000a3fd8b8a3d1a9...|   Lancaster|  Pennsylvania|              No|      176|\n",
      "+--------------------+------------+--------------+----------------+---------+\n",
      "only showing top 20 rows\n",
      "\n"
     ]
    }
   ],
   "source": [
    "dfDonors.show()"
   ]
  },
  {
   "cell_type": "code",
   "execution_count": 11,
   "metadata": {},
   "outputs": [
    {
     "name": "stdout",
     "output_type": "stream",
     "text": [
      "root\n",
      " |-- Project ID: string (nullable = true)\n",
      " |-- Donation ID: string (nullable = true)\n",
      " |-- Donor ID: string (nullable = true)\n",
      " |-- Donation Included Optional Donation: string (nullable = true)\n",
      " |-- Donation Amount: double (nullable = true)\n",
      " |-- Donor Cart Sequence: integer (nullable = true)\n",
      " |-- Donation Received Date: timestamp (nullable = true)\n",
      "\n"
     ]
    }
   ],
   "source": [
    "# Load Donations Data\n",
    "dfDonations = spark.read.csv(\"hdfs://localhost:54310/user/hduser/project/Donations.csv\", header=True, sep=',', inferSchema=True)\n",
    "dfDonations.printSchema()"
   ]
  },
  {
   "cell_type": "code",
   "execution_count": 12,
   "metadata": {},
   "outputs": [
    {
     "name": "stdout",
     "output_type": "stream",
     "text": [
      "+--------------------+--------------------+--------------------+-----------------------------------+---------------+-------------------+----------------------+\n",
      "|          Project ID|         Donation ID|            Donor ID|Donation Included Optional Donation|Donation Amount|Donor Cart Sequence|Donation Received Date|\n",
      "+--------------------+--------------------+--------------------+-----------------------------------+---------------+-------------------+----------------------+\n",
      "|000009891526c0ade...|68872912085866622...|1f4b5b6e68445c6c4...|                                 No|         178.37|                 11|   2016-08-23 13:15:57|\n",
      "|000009891526c0ade...|dcf1071da3aa3561f...|4aaab6d244bf35996...|                                Yes|           25.0|                  2|   2016-06-06 20:05:23|\n",
      "|000009891526c0ade...|18a234b9d1e538c43...|0b0765dc9c759adc4...|                                Yes|           20.0|                  3|   2016-06-06 14:08:46|\n",
      "|000009891526c0ade...|38d2744bf9138b0b5...|377944ad61f72d800...|                                Yes|           25.0|                  1|   2016-05-15 10:23:04|\n",
      "|000009891526c0ade...|5a032791e31167a70...|6d5b22d39e68c6560...|                                Yes|           25.0|                  2|   2016-05-17 01:23:38|\n",
      "|000009891526c0ade...|8cea27f0cc03f41f6...|896c75c9b8d9a91c7...|                                Yes|           15.0|                  1|   2016-06-04 17:58:55|\n",
      "|00000ce845c00cbf0...|39af862cb04e4f938...|8a1875762c85932ff...|                                Yes|           50.0|                  1|   2013-02-27 09:07:51|\n",
      "|00000ce845c00cbf0...|c47f78571f62bcf10...|a3f070e439d52de72...|                                Yes|           50.0|                  2|   2013-02-27 09:53:12|\n",
      "|00000ce845c00cbf0...|19351e1d9ae0bccab...|bd323208dc78b1c74...|                                Yes|          200.0|                  2|   2013-02-17 21:36:24|\n",
      "|00000ce845c00cbf0...|d5364b1bb3b145948...|6dd6113f89f2766d3...|                                Yes|           10.0|                 44|   2013-02-27 10:32:22|\n",
      "|00000ce845c00cbf0...|84d4bd0c34c8c28f9...|391f14831940fc7bc...|                                Yes|          100.0|                  1|   2013-02-27 09:55:18|\n",
      "|00000ce845c00cbf0...|987eecef69373f0d7...|531ed26f1a5052823...|                                Yes|           25.0|                  1|   2013-02-27 09:57:57|\n",
      "|00000ce845c00cbf0...|72f8a2bf2a996b287...|499496888e927737a...|                                Yes|           50.0|                  1|   2013-02-27 10:56:48|\n",
      "|00002d44003ed46b0...|3dc5237cf215a2bdc...|3fa001f7a31563bb2...|                                Yes|           25.0|                  1|   2017-06-20 22:45:41|\n",
      "|00002d44003ed46b0...|3fb12c4ea45461531...|c77b27c9837573aae...|                                Yes|           20.0|                  1|   2017-07-05 12:19:02|\n",
      "|00002d44003ed46b0...|1abb69e9f91e80a4c...|43ca9835ccb5c7c24...|                                Yes|          100.0|                  2|   2017-06-28 22:56:05|\n",
      "|00002d44003ed46b0...|3f878f6ea8afe42b2...|6243c0acf1dc9a4d7...|                                Yes|           25.0|                  1|   2017-06-29 19:49:13|\n",
      "|00002d44003ed46b0...|7b28925a3c4c768da...|3fa001f7a31563bb2...|                                 No|         117.92|                  3|   2017-07-31 08:48:01|\n",
      "|00002d44003ed46b0...|aee61d191d3dcaf58...|3fa001f7a31563bb2...|                                 No|          250.0|                  2|   2017-07-30 23:16:53|\n",
      "|00002d44003ed46b0...|c40e75f11f570cd59...|344ad0a72366a27bd...|                                Yes|           10.0|                  9|   2017-07-24 08:40:35|\n",
      "+--------------------+--------------------+--------------------+-----------------------------------+---------------+-------------------+----------------------+\n",
      "only showing top 20 rows\n",
      "\n"
     ]
    }
   ],
   "source": [
    "dfDonations.show()"
   ]
  },
  {
   "cell_type": "code",
   "execution_count": 14,
   "metadata": {},
   "outputs": [
    {
     "name": "stdout",
     "output_type": "stream",
     "text": [
      "root\n",
      " |-- Project ID: string (nullable = true)\n",
      " |-- School ID: string (nullable = true)\n",
      " |-- Teacher ID: string (nullable = true)\n",
      " |-- Teacher Project Posted Sequence: string (nullable = true)\n",
      " |-- Project Type: string (nullable = true)\n",
      " |-- Project Title: string (nullable = true)\n",
      " |-- Project Essay: string (nullable = true)\n",
      " |-- Project Short Description: string (nullable = true)\n",
      " |-- Project Need Statement: string (nullable = true)\n",
      " |-- Project Subject Category Tree: string (nullable = true)\n",
      " |-- Project Subject Subcategory Tree: string (nullable = true)\n",
      " |-- Project Grade Level Category: string (nullable = true)\n",
      " |-- Project Resource Category: string (nullable = true)\n",
      " |-- Project Cost: string (nullable = true)\n",
      " |-- Project Posted Date: string (nullable = true)\n",
      " |-- Project Expiration Date: string (nullable = true)\n",
      " |-- Project Current Status: string (nullable = true)\n",
      " |-- Project Fully Funded Date: string (nullable = true)\n",
      "\n"
     ]
    }
   ],
   "source": [
    "# Load Projects Data\n",
    "dfProjects = spark.read.csv(\"hdfs://localhost:54310/user/hduser/project/Projects.csv\", header=True, sep=',', inferSchema=True)\n",
    "dfProjects.printSchema()"
   ]
  },
  {
   "cell_type": "code",
   "execution_count": 11,
   "metadata": {},
   "outputs": [
    {
     "name": "stdout",
     "output_type": "stream",
     "text": [
      "+--------------------+--------------------+--------------------+-------------------------------+--------------------+--------------------+--------------------+-------------------------+----------------------+-----------------------------+--------------------------------+----------------------------+-------------------------+--------------------+--------------------+-----------------------+----------------------+-------------------------+\n",
      "|          Project ID|           School ID|          Teacher ID|Teacher Project Posted Sequence|        Project Type|       Project Title|       Project Essay|Project Short Description|Project Need Statement|Project Subject Category Tree|Project Subject Subcategory Tree|Project Grade Level Category|Project Resource Category|        Project Cost| Project Posted Date|Project Expiration Date|Project Current Status|Project Fully Funded Date|\n",
      "+--------------------+--------------------+--------------------+-------------------------------+--------------------+--------------------+--------------------+-------------------------+----------------------+-----------------------------+--------------------------------+----------------------------+-------------------------+--------------------+--------------------+-----------------------+----------------------+-------------------------+\n",
      "|7685f0265a19d7b52...|e180c7424cb9c68cb...|4ee5200e89d9e2998...|                             25|         Teacher-Led|Stand Up to Bully...|\"Did you know tha...|      share with their...|   and I can lead c...|                         null|                            null|                        null|                     null|                null|                null|                   null|                  null|                     null|\n",
      "|There is access t...|  articles and poems| and making them ...|            but knowledge is...|             parents| administrators a...|000 children miss...|     Did you know that...|  \"My students need...|          \"\"Stand Up For Y...|             \"\"A Smart Kid's ...|            Applied Learning|     Character Educati...|       Grades PreK-2|          Technology|                  361.8|            2013-01-01|               2013-05-30|\n",
      "|f9f4af7099061fb4b...|08b20f1e2125103ed...|cca2d1d277fb4adb5...|                              3|         Teacher-Led|  Learning in Color!|Help us have a fu...|                     null|                  null|                         null|                            null|                        null|                     null|                null|                null|                   null|                  null|                     null|\n",
      "| <!--DONOTREMOVEE...| but a large port...| but need concret...|            read along books...| and headphones f...|                 see| and interact wit...|                     null|                  null|                         null|                            null|                        null|                     null|                null|                null|                   null|                  null|                     null|\n",
      "| <!--DONOTREMOVEE...|Help us have a fu...|My students need ...|           Applied Learning,...|Early Development...|       Grades PreK-2|          Technology|                   512.85|            2013-01-01|                   2013-05-31|                         Expired|                        null|                     null|                null|                null|                   null|                  null|                     null|\n",
      "|afd99a01739ad5557...|1287f5128b1f36bf8...|6c5bd0d4f20547a00...|                              1|         Teacher-Led|Help Second Grade...|Visiting or movin...|     Visiting or movin...|  My students need ...|          Literacy & Language|                             ESL|               Grades PreK-2|                 Supplies|              435.92|          2013-01-01|             2013-05-30|          Fully Funded|               2013-05-22|\n",
      "|c614a38bb1a5e68e2...|900fec9cd7a3188ac...|8ed6f8181d092a8f4...|                             40|         Teacher-Led|Help Bilingual St...|Students at our s...|     Students at our s...|  My students need ...|          Literacy & Language|                   ESL, Literacy|                  Grades 3-5|                    Books|              161.26|          2013-01-01|             2013-05-31|          Fully Funded|               2013-02-06|\n",
      "|ec82a697fab916c0d...|3b200e7fe3e6dde3c...|893173d62775f8be7...|                              2|         Teacher-Led|Help Us Make Each...|\"\"\"Idle hands\"\" w...|      but when student...|   it can result in...|          but things that ...|             and we need thin...|         two pounds of mu...|      to work independ...| so help us stay ...|\"\"\"Idle hands\"\" w...|    but when student...|   it can result in...|     My students need ...|\n",
      "|563958074d7b12b48...|b79a19772090efccd...|5ef1793ff657860ca...|                              4|         Teacher-Led|It's about Time.....|We know that succ...|                     null|                  null|                         null|                            null|                        null|                     null|                null|                null|                   null|                  null|                     null|\n",
      "|Having access to ...| non-fiction text...|We know that succ...|           My students need ...|Literacy & Langua...|Literacy, Social ...|          Grades 3-5|                    Other|                175.15|                   2013-01-01|                      2013-05-31|                Fully Funded|               2013-02-01|                null|                null|                   null|                  null|                     null|\n",
      "|717c7a01215d532d6...|14a4351014125e8a4...|dd9c029f01a66f862...|                              3|         Teacher-Led|  Experiencing India|Travel and hands ...|     Travel and hands ...|  My students need ...|             Applied Learning|            College & Career ...|                 Grades 9-12|                    Trips|             3020.59|          2013-01-01|             2013-05-27|          Fully Funded|               2013-01-05|\n",
      "|4202c4e251fe483df...|2265238757b794fce...|7caacabf97a3972e1...|                             57|         Teacher-Led|   Come Read UPFRONT|\"Current events, ...|      unless they have...|   as they are in t...|          geared toward yo...|             my students will...|         I hope it will i...|      I hope to make m...|\"Current events, ...|My students need ...|    Literacy & Language|  Literacy, Literat...|               Grades 6-8|\n",
      "|49825532f85d0cdb5...|b3b304ad7840ca7f5...|969fd3465276f11ff...|                             14|         Teacher-Led|Grammar, Grammar ...|\"Grammar can be t...|                 antonyms|            homophones|          contractions and...|            Grammar can be tr...|        My students need ...|      Literacy & Language|Literacy, Literat...|       Grades PreK-2|               Supplies|                 339.2|               2013-01-01|\n",
      "|60dddb9495e5ed60c...|0eef7b3d950954a03...|1c822ca44ec40dd32...|                              1|         Teacher-Led|Little Learners L...|Do you remember w...|     Do you remember w...|  My students need ...|          Literacy & Language|                   ESL, Literacy|               Grades PreK-2|                    Books|              566.73|          2013-01-01|             2013-05-30|          Fully Funded|               2013-05-24|\n",
      "|3bb8a92ba3e8756c4...|9f2ac63654b44656f...|9777d72d8a943ed20...|                             19|         Teacher-Led|\"It Is Time To Gr...|Teasing is part o...|     Teasing is part o...|  My students need ...|             Applied Learning|             Character Education|               Grades PreK-2|                    Books|              400.19|          2013-01-01|             2013-05-30|          Fully Funded|               2013-01-09|\n",
      "|2383faa08d819975f...|b2998dbd901d637f9...|152f5bc06e47b17f5...|                              1|         Teacher-Led|1st Grade Mathema...|Help keep us enga...|     Help keep us enga...|  My students need ...|               Math & Science|                     Mathematics|               Grades PreK-2|                 Supplies|              314.33|          2013-01-01|             2013-05-30|          Fully Funded|               2013-04-02|\n",
      "|c265d5c4b7ef2059e...|4fc80fd777e469bc9...|04d3b06321ffbff83...|                              1|         Teacher-Led|Want To Become So...|Early exposure to...|     Early exposure to...|  My students need ...|         Applied Learning,...|            Early Development...|               Grades PreK-2|                    Books|              580.02|          2013-01-01|             2013-05-30|          Fully Funded|               2013-02-20|\n",
      "|49409b4858006bbfb...|318346a55244fb197...|0b163977c92e419cf...|                              2|         Teacher-Led|\"\"\"I Don't Have A...|We have tried hav...|                     null|                  null|                         null|                            null|                        null|                     null|                null|                null|                   null|                  null|                     null|\n",
      "|Pencil usage howe...|                null|                null|                           null|                null|                null|                null|                     null|                  null|                         null|                            null|                        null|                     null|                null|                null|                   null|                  null|                     null|\n",
      "|Using the mechani...|                null|                null|                           null|                null|                null|                null|                     null|                  null|                         null|                            null|                        null|                     null|                null|                null|                   null|                  null|                     null|\n",
      "+--------------------+--------------------+--------------------+-------------------------------+--------------------+--------------------+--------------------+-------------------------+----------------------+-----------------------------+--------------------------------+----------------------------+-------------------------+--------------------+--------------------+-----------------------+----------------------+-------------------------+\n",
      "only showing top 20 rows\n",
      "\n"
     ]
    }
   ],
   "source": [
    "dfProjects.show()"
   ]
  },
  {
   "cell_type": "code",
   "execution_count": 15,
   "metadata": {},
   "outputs": [],
   "source": [
    "# Create Temp Tables from CSVs\n",
    "dfTeachers.createOrReplaceTempView(\"TeachersTempTable\")\n",
    "dfSchools.createOrReplaceTempView(\"SchoolsTempTable\")\n",
    "dfDonors.createOrReplaceTempView(\"DonorsTempTable\")\n",
    "dfDonations.createOrReplaceTempView(\"DonationsTempTable\")\n",
    "dfProjects.createOrReplaceTempView(\"ProjectsTempTable\")"
   ]
  },
  {
   "cell_type": "code",
   "execution_count": 16,
   "metadata": {},
   "outputs": [
    {
     "data": {
      "text/plain": [
       "DataFrame[]"
      ]
     },
     "execution_count": 16,
     "metadata": {},
     "output_type": "execute_result"
    }
   ],
   "source": [
    "# Create Hive Tables from Temp Tables\n",
    "spark.sql(\"create table TeachersHiveTable as select * from TeachersTempTable\")\n",
    "spark.sql(\"create table SchoolsHiveTable as select * from SchoolsTempTable\")\n",
    "spark.sql(\"create table DonorsHiveTable as select * from DonorsTempTable\")\n",
    "spark.sql(\"create table DonationsHiveTable as select * from DonationsTempTable\")\n",
    "spark.sql(\"create table ProjectsHiveTable as select * from ProjectsTempTable\")"
   ]
  },
  {
   "cell_type": "code",
   "execution_count": null,
   "metadata": {},
   "outputs": [],
   "source": []
  }
 ],
 "metadata": {
  "kernelspec": {
   "display_name": "Python 3",
   "language": "python",
   "name": "python3"
  },
  "language_info": {
   "codemirror_mode": {
    "name": "ipython",
    "version": 3
   },
   "file_extension": ".py",
   "mimetype": "text/x-python",
   "name": "python",
   "nbconvert_exporter": "python",
   "pygments_lexer": "ipython3",
   "version": "3.6.6"
  }
 },
 "nbformat": 4,
 "nbformat_minor": 2
}
