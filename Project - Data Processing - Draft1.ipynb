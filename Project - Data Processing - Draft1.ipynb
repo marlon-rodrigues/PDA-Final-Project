{
 "cells": [
  {
   "cell_type": "code",
   "execution_count": 1,
   "metadata": {},
   "outputs": [
    {
     "name": "stdout",
     "output_type": "stream",
     "text": [
      "2.4.0\n"
     ]
    }
   ],
   "source": [
    "print(sc.version)"
   ]
  },
  {
   "cell_type": "code",
   "execution_count": 8,
   "metadata": {},
   "outputs": [
    {
     "name": "stdout",
     "output_type": "stream",
     "text": [
      "+--------------------+------------+\n",
      "|        Project Type|       Total|\n",
      "+--------------------+------------+\n",
      "|         Teacher-Led|276414228.33|\n",
      "|Professional Deve...|  2491235.29|\n",
      "|         Student-Led|  2713256.98|\n",
      "+--------------------+------------+\n",
      "\n"
     ]
    }
   ],
   "source": [
    "# Get Project Type that Receive most donations\n",
    "dfProjectType=spark.sql(\"SELECT ProjectsHiveTable.`Project Type`, \\\n",
    "             SUM(CAST(DonationsHiveTable.`Donation Amount` AS DECIMAL(10,2))) AS Total \\\n",
    "             from ProjectsHiveTable JOIN DonationsHiveTable ON \\\n",
    "             ProjectsHiveTable.`Project ID` = DonationsHiveTable.`Project ID` \\\n",
    "             GROUP BY ProjectsHiveTable.`Project Type`\")\n",
    "dfProjectType.show()"
   ]
  },
  {
   "cell_type": "code",
   "execution_count": 6,
   "metadata": {},
   "outputs": [
    {
     "name": "stdout",
     "output_type": "stream",
     "text": [
      "+-----------+---------+\n",
      "|      Total|DonorType|\n",
      "+-----------+---------+\n",
      "|58141038.72|IsTeacher|\n",
      "+-----------+---------+\n",
      "\n"
     ]
    }
   ],
   "source": [
    "# Correlation of Teachers and Non Teachers Donations - Teachers Data\n",
    "dfTeachersData=spark.sql(\"SELECT SUM(CAST(DonationsHiveTable.`Donation Amount` AS DECIMAL(10,2))) AS Total, \\\n",
    "              'IsTeacher' AS DonorType \\\n",
    "              FROM TeachersHiveTable JOIN DonationsHiveTable ON \\\n",
    "              TeachersHiveTable.`Teacher ID` = DonationsHiveTable.`Donor ID` \\\n",
    "              GROUP BY DonorType\")\n",
    "dfTeachersData.show()"
   ]
  },
  {
   "cell_type": "code",
   "execution_count": 3,
   "metadata": {},
   "outputs": [
    {
     "name": "stdout",
     "output_type": "stream",
     "text": [
      "+------------+------------+\n",
      "|       Total|   DonorType|\n",
      "+------------+------------+\n",
      "|226267204.56|IsNotTeacher|\n",
      "+------------+------------+\n",
      "\n"
     ]
    }
   ],
   "source": [
    "# Correlation of Teachers and Non Teachers Donations - Non Teachers Data\n",
    "dfNotTeachersData=spark.sql(\"SELECT SUM(CAST(DonationsHiveTable.`Donation Amount` AS DECIMAL(10,2))) AS Total, \\\n",
    "              'IsNotTeacher' AS DonorType \\\n",
    "               FROM DonationsHiveTable \\\n",
    "               WHERE NOT EXISTS \\\n",
    "               (SELECT 1 FROM TeachersHiveTable WHERE DonationsHiveTable.`Donor ID` = TeachersHiveTable.`Teacher ID`) \\\n",
    "               GROUP BY DonorType\")\n",
    "dfNotTeachersData.show()"
   ]
  },
  {
   "cell_type": "code",
   "execution_count": 19,
   "metadata": {},
   "outputs": [
    {
     "name": "stdout",
     "output_type": "stream",
     "text": [
      "+------------+------------+\n",
      "|       Total|   DonorType|\n",
      "+------------+------------+\n",
      "| 58141038.72|   IsTeacher|\n",
      "|226267204.56|IsNotTeacher|\n",
      "+------------+------------+\n",
      "\n"
     ]
    }
   ],
   "source": [
    "# Correlation of Teachers and Non Teachers Donations - Final\n",
    "dfFinal = dfTeachersData.unionAll(dfNotTeachersData);\n",
    "dfFinal.show()"
   ]
  },
  {
   "cell_type": "code",
   "execution_count": 21,
   "metadata": {},
   "outputs": [
    {
     "name": "stdout",
     "output_type": "stream",
     "text": [
      "+------------+----------------+\n",
      "|       Total|Donor is Teacher|\n",
      "+------------+----------------+\n",
      "|223064734.47|              No|\n",
      "| 61006942.31|             Yes|\n",
      "+------------+----------------+\n",
      "\n"
     ]
    }
   ],
   "source": [
    "# Correlation of Teachers and Non Teachers Donations - Teachers Data\n",
    "df=spark.sql(\"SELECT SUM(CAST(DonationsHiveTable.`Donation Amount` AS DECIMAL(10,2))) AS Total, \\\n",
    "              DonorsHiveTable.`Donor is Teacher` \\\n",
    "              FROM DonationsHiveTable JOIN DonorsHiveTable ON \\\n",
    "              DonorsHiveTable.`Donor ID` = DonationsHiveTable.`Donor ID` \\\n",
    "              GROUP BY DonorsHiveTable.`Donor is Teacher`\")\n",
    "df.show()"
   ]
  },
  {
   "cell_type": "code",
   "execution_count": 20,
   "metadata": {},
   "outputs": [
    {
     "name": "stdout",
     "output_type": "stream",
     "text": [
      "+-----------+--------------+\n",
      "|      Total|Teacher Prefix|\n",
      "+-----------+--------------+\n",
      "|20839892.59|           Ms.|\n",
      "|  703063.40|       Teacher|\n",
      "|    2271.07|          null|\n",
      "|10140481.41|           Mr.|\n",
      "|26423783.32|          Mrs.|\n",
      "|   25687.58|           Dr.|\n",
      "|    5859.35|           Mx.|\n",
      "+-----------+--------------+\n",
      "\n"
     ]
    }
   ],
   "source": [
    "# Correlation of Males and Females Teachers Donations\n",
    "dfTeachersData=spark.sql(\"SELECT SUM(CAST(DonationsHiveTable.`Donation Amount` AS DECIMAL(10,2))) AS Total, \\\n",
    "              TeachersHiveTable.`Teacher Prefix` \\\n",
    "              FROM DonationsHiveTable JOIN TeachersHiveTable ON \\\n",
    "              TeachersHiveTable.`Teacher ID` = DonationsHiveTable.`Donor ID` \\\n",
    "              GROUP BY TeachersHiveTable.`Teacher Prefix`\")\n",
    "dfTeachersData.show()"
   ]
  },
  {
   "cell_type": "code",
   "execution_count": 24,
   "metadata": {},
   "outputs": [
    {
     "name": "stdout",
     "output_type": "stream",
     "text": [
      "+-----------+--------------------+\n",
      "|Total      |Donor State         |\n",
      "+-----------+--------------------+\n",
      "|2755841.98 |Utah                |\n",
      "|1397935.03 |Hawaii              |\n",
      "|3604963.49 |Minnesota           |\n",
      "|5625645.80 |Ohio                |\n",
      "|1432189.74 |Arkansas            |\n",
      "|3965820.04 |Oregon              |\n",
      "|17392010.06|Texas               |\n",
      "|349755.14  |North Dakota        |\n",
      "|8719832.46 |Pennsylvania        |\n",
      "|4546151.53 |Connecticut         |\n",
      "|670643.94  |Nebraska            |\n",
      "|384306.38  |Vermont             |\n",
      "|2348658.13 |Nevada              |\n",
      "|7437949.12 |Washington          |\n",
      "|14838197.91|Illinois            |\n",
      "|4106344.41 |Oklahoma            |\n",
      "|7993566.28 |other               |\n",
      "|1811878.20 |District of Columbia|\n",
      "|915053.54  |Delaware            |\n",
      "|669350.43  |Alaska              |\n",
      "|1089004.25 |New Mexico          |\n",
      "|812536.38  |West Virginia       |\n",
      "|4035165.36 |Missouri            |\n",
      "|802152.86  |Rhode Island        |\n",
      "|7719309.94 |Georgia             |\n",
      "|687270.29  |Montana             |\n",
      "|6708546.13 |Michigan            |\n",
      "|6845924.16 |Virginia            |\n",
      "|11088914.99|North Carolina      |\n",
      "|232148.85  |Wyoming             |\n",
      "|1461634.08 |Kansas              |\n",
      "|7146562.01 |New Jersey          |\n",
      "|5248575.84 |Maryland            |\n",
      "|2538167.31 |Alabama             |\n",
      "|5093127.47 |Arizona             |\n",
      "|1304088.90 |Iowa                |\n",
      "|11200095.25|Massachusetts       |\n",
      "|2025661.85 |Kentucky            |\n",
      "|3004789.36 |Louisiana           |\n",
      "|1582958.38 |Mississippi         |\n",
      "|1126144.62 |New Hampshire       |\n",
      "|3695037.83 |Tennessee           |\n",
      "|13597443.51|Florida             |\n",
      "|5568257.26 |Indiana             |\n",
      "|1033819.87 |Idaho               |\n",
      "|5543905.55 |South Carolina      |\n",
      "|479454.60  |South Dakota        |\n",
      "|46564797.79|California          |\n",
      "|24532648.52|New York            |\n",
      "|3896673.12 |Wisconsin           |\n",
      "|5074027.28 |Colorado            |\n",
      "|1366739.56 |Maine               |\n",
      "+-----------+--------------------+\n",
      "\n"
     ]
    }
   ],
   "source": [
    "# State with most make donations\n",
    "df=spark.sql(\"SELECT SUM(CAST(DonationsHiveTable.`Donation Amount` AS DECIMAL(10,2))) AS Total, \\\n",
    "              DonorsHiveTable.`Donor State` \\\n",
    "              FROM DonationsHiveTable JOIN DonorsHiveTable ON \\\n",
    "              DonorsHiveTable.`Donor ID` = DonationsHiveTable.`Donor ID` \\\n",
    "              GROUP BY DonorsHiveTable.`Donor State`\")\n",
    "df.show(df.count(), False)"
   ]
  },
  {
   "cell_type": "code",
   "execution_count": 28,
   "metadata": {},
   "outputs": [
    {
     "name": "stdout",
     "output_type": "stream",
     "text": [
      "+-----------+--------------------+\n",
      "|Total      |School State        |\n",
      "+-----------+--------------------+\n",
      "|3108568.37 |Utah                |\n",
      "|2019575.50 |Hawaii              |\n",
      "|3414589.27 |Minnesota           |\n",
      "|5720818.77 |Ohio                |\n",
      "|4075159.99 |Oregon              |\n",
      "|1784650.09 |Arkansas            |\n",
      "|17539223.58|Texas               |\n",
      "|356774.25  |North Dakota        |\n",
      "|8333432.70 |Pennsylvania        |\n",
      "|4615298.66 |Connecticut         |\n",
      "|394128.26  |Vermont             |\n",
      "|646896.23  |Nebraska            |\n",
      "|2773494.78 |Nevada              |\n",
      "|6441378.47 |Washington          |\n",
      "|15542406.18|Illinois            |\n",
      "|5231957.03 |Oklahoma            |\n",
      "|2129021.31 |District of Columbia|\n",
      "|919433.67  |Delaware            |\n",
      "|899257.67  |Alaska              |\n",
      "|1288396.57 |New Mexico          |\n",
      "|1158237.59 |West Virginia       |\n",
      "|4894340.48 |Missouri            |\n",
      "|1113406.14 |Rhode Island        |\n",
      "|8297850.00 |Georgia             |\n",
      "|815422.36  |Montana             |\n",
      "|5750947.28 |Virginia            |\n",
      "|7723099.32 |Michigan            |\n",
      "|12770353.34|North Carolina      |\n",
      "|418305.98  |Wyoming             |\n",
      "|1391957.32 |Kansas              |\n",
      "|6018905.16 |New Jersey          |\n",
      "|4619365.45 |Maryland            |\n",
      "|3477686.44 |Alabama             |\n",
      "|5488148.20 |Arizona             |\n",
      "|1318859.08 |Iowa                |\n",
      "|9802350.64 |Massachusetts       |\n",
      "|2429692.67 |Kentucky            |\n",
      "|4247226.66 |Louisiana           |\n",
      "|2361205.41 |Mississippi         |\n",
      "|1076746.33 |New Hampshire       |\n",
      "|4137856.88 |Tennessee           |\n",
      "|5801988.33 |Indiana             |\n",
      "|13745330.36|Florida             |\n",
      "|1239087.08 |Idaho               |\n",
      "|7081443.51 |South Carolina      |\n",
      "|696584.18  |South Dakota        |\n",
      "|45179799.53|California          |\n",
      "|21583224.84|New York            |\n",
      "|4022628.08 |Wisconsin           |\n",
      "|4147974.88 |Colorado            |\n",
      "|1572823.37 |Maine               |\n",
      "+-----------+--------------------+\n",
      "\n"
     ]
    }
   ],
   "source": [
    "# State with most received donations\n",
    "df=spark.sql(\"SELECT SUM(CAST(DonationsHiveTable.`Donation Amount` AS DECIMAL(10,2))) AS Total, \\\n",
    "              SchoolsHiveTable.`School State` \\\n",
    "              FROM DonationsHiveTable \\\n",
    "              JOIN ProjectsHiveTable ON \\\n",
    "              DonationsHiveTable.`Project ID` = ProjectsHiveTable.`Project ID` \\\n",
    "              JOIN SchoolsHiveTable ON \\\n",
    "              SchoolsHiveTable.`School ID` = ProjectsHiveTable.`School ID` \\\n",
    "              GROUP BY SchoolsHiveTable.`School State`\")\n",
    "df.show(df.count(), False)"
   ]
  },
  {
   "cell_type": "code",
   "execution_count": 29,
   "metadata": {},
   "outputs": [
    {
     "name": "stdout",
     "output_type": "stream",
     "text": [
      "+------------+-----------------+\n",
      "|Total       |School Metro Type|\n",
      "+------------+-----------------+\n",
      "|22271045.27 |unknown          |\n",
      "|82873104.89 |suburban         |\n",
      "|11738111.95 |town             |\n",
      "|26110253.26 |rural            |\n",
      "|138624792.87|urban            |\n",
      "+------------+-----------------+\n",
      "\n"
     ]
    }
   ],
   "source": [
    "# School Type with most received donations\n",
    "df=spark.sql(\"SELECT SUM(CAST(DonationsHiveTable.`Donation Amount` AS DECIMAL(10,2))) AS Total, \\\n",
    "              SchoolsHiveTable.`School Metro Type` \\\n",
    "              FROM DonationsHiveTable \\\n",
    "              JOIN ProjectsHiveTable ON \\\n",
    "              DonationsHiveTable.`Project ID` = ProjectsHiveTable.`Project ID` \\\n",
    "              JOIN SchoolsHiveTable ON \\\n",
    "              SchoolsHiveTable.`School ID` = ProjectsHiveTable.`School ID` \\\n",
    "              GROUP BY SchoolsHiveTable.`School Metro Type`\")\n",
    "df.show(df.count(), False)"
   ]
  },
  {
   "cell_type": "code",
   "execution_count": 10,
   "metadata": {},
   "outputs": [
    {
     "name": "stdout",
     "output_type": "stream",
     "text": [
      "+-----------------------------+----------+\n",
      "|Project Subject Category Tree|     Total|\n",
      "+-----------------------------+----------+\n",
      "|                Special Needs|1724975.64|\n",
      "+-----------------------------+----------+\n",
      "\n"
     ]
    }
   ],
   "source": [
    "# Project Subject Category that Receive most donations - NOT REALLY\n",
    "df=spark.sql(\"SELECT ProjectsHiveTable.`Project Subject Category Tree`, \\\n",
    "             SUM(CAST(DonationsHiveTable.`Donation Amount` AS DECIMAL(10,2))) AS Total \\\n",
    "             from ProjectsHiveTable JOIN DonationsHiveTable ON \\\n",
    "             ProjectsHiveTable.`Project ID` = DonationsHiveTable.`Project ID` \\\n",
    "             WHERE ProjectsHiveTable.`Project Subject Category Tree` = 'Special Needs' \\\n",
    "             GROUP BY ProjectsHiveTable.`Project Subject Category Tree`\")\n",
    "df.show()"
   ]
  },
  {
   "cell_type": "code",
   "execution_count": 1,
   "metadata": {},
   "outputs": [
    {
     "name": "stdout",
     "output_type": "stream",
     "text": [
      "+-------------------------+-----------+\n",
      "|Project Resource Category|      Total|\n",
      "+-------------------------+-----------+\n",
      "|                    Books| 9873985.77|\n",
      "|               Technology|23669675.03|\n",
      "+-------------------------+-----------+\n",
      "\n"
     ]
    }
   ],
   "source": [
    "# Project Resource category - Books vs Techonology - that Receive most donations\n",
    "df=spark.sql(\"SELECT ProjectsHiveTable.`Project Resource Category`, \\\n",
    "             SUM(CAST(DonationsHiveTable.`Donation Amount` AS DECIMAL(10,2))) AS Total \\\n",
    "             from ProjectsHiveTable \\\n",
    "             JOIN DonationsHiveTable ON \\\n",
    "             ProjectsHiveTable.`Project ID` = DonationsHiveTable.`Project ID` \\\n",
    "             WHERE ProjectsHiveTable.`Project Resource Category` = 'Technology' \\\n",
    "             OR ProjectsHiveTable.`Project Resource Category` = 'Books' \\\n",
    "             GROUP BY ProjectsHiveTable.`Project Resource Category`\")\n",
    "df.show()"
   ]
  },
  {
   "cell_type": "code",
   "execution_count": 2,
   "metadata": {},
   "outputs": [
    {
     "name": "stdout",
     "output_type": "stream",
     "text": [
      "+--------------+------------+\n",
      "|TotalDonations|       Total|\n",
      "+--------------+------------+\n",
      "|TotalDonations|284408243.28|\n",
      "+--------------+------------+\n",
      "\n"
     ]
    }
   ],
   "source": [
    "# Get Total of Donations\n",
    "df=spark.sql(\"SELECT 'TotalDonations', \\\n",
    "             SUM(CAST(DonationsHiveTable.`Donation Amount` AS DECIMAL(10,2))) AS Total \\\n",
    "             from DonationsHiveTable \\\n",
    "             GROUP BY TotalDonations\")\n",
    "df.show()"
   ]
  },
  {
   "cell_type": "code",
   "execution_count": 9,
   "metadata": {},
   "outputs": [
    {
     "name": "stdout",
     "output_type": "stream",
     "text": [
      "+------------+---------+\n",
      "|DonationDate|    Total|\n",
      "+------------+---------+\n",
      "|  2018-05-09| 98526.99|\n",
      "|  2018-05-08|441211.77|\n",
      "|  2018-05-07|153675.41|\n",
      "|  2018-05-06| 67549.57|\n",
      "|  2018-05-05| 55167.27|\n",
      "|  2018-05-04| 92190.50|\n",
      "|  2018-05-03|137752.54|\n",
      "|  2018-05-02|173867.18|\n",
      "|  2018-05-01|286805.07|\n",
      "|  2018-04-30|190048.95|\n",
      "|  2018-04-29|138624.27|\n",
      "|  2018-04-28|154656.43|\n",
      "|  2018-04-27|196513.06|\n",
      "|  2018-04-26|178205.34|\n",
      "|  2018-04-25|251247.40|\n",
      "|  2018-04-24|349875.78|\n",
      "|  2018-04-23|275768.65|\n",
      "|  2018-04-22|218696.37|\n",
      "|  2018-04-21|166899.77|\n",
      "|  2018-04-20|217308.53|\n",
      "+------------+---------+\n",
      "only showing top 20 rows\n",
      "\n"
     ]
    }
   ],
   "source": [
    "# Get Donations by Date\n",
    "df=spark.sql(\"SELECT SUBSTRING(DonationsHiveTable.`Donation Received Date`, 0,10) AS DonationDate, \\\n",
    "             SUM(CAST(DonationsHiveTable.`Donation Amount` AS DECIMAL(10,2))) AS Total \\\n",
    "             from DonationsHiveTable \\\n",
    "             GROUP BY DonationDate \\\n",
    "             ORDER BY DonationDate DESC\")\n",
    "df.show()"
   ]
  },
  {
   "cell_type": "code",
   "execution_count": 10,
   "metadata": {},
   "outputs": [
    {
     "name": "stdout",
     "output_type": "stream",
     "text": [
      "+------------+-----------+\n",
      "|DonationDate|      Total|\n",
      "+------------+-----------+\n",
      "|        2018|26481196.48|\n",
      "|        2017|72872130.78|\n",
      "|        2016|62652231.24|\n",
      "|        2015|50488354.49|\n",
      "|        2014|41461266.85|\n",
      "|        2013|30428220.80|\n",
      "|        2012|   24842.64|\n",
      "+------------+-----------+\n",
      "\n"
     ]
    }
   ],
   "source": [
    "# Get Donations by Year\n",
    "df=spark.sql(\"SELECT SUBSTRING(DonationsHiveTable.`Donation Received Date`, 0,4) AS DonationDate, \\\n",
    "             SUM(CAST(DonationsHiveTable.`Donation Amount` AS DECIMAL(10,2))) AS Total \\\n",
    "             from DonationsHiveTable \\\n",
    "             GROUP BY DonationDate \\\n",
    "             ORDER BY DonationDate DESC\")\n",
    "df.show()"
   ]
  },
  {
   "cell_type": "code",
   "execution_count": 11,
   "metadata": {},
   "outputs": [
    {
     "name": "stdout",
     "output_type": "stream",
     "text": [
      "+------------+----------+\n",
      "|DonationDate|     Total|\n",
      "+------------+----------+\n",
      "|     2018-05|1506746.30|\n",
      "|     2018-04|6313794.97|\n",
      "|     2018-03|5757581.91|\n",
      "|     2018-02|5094398.32|\n",
      "|     2018-01|7808674.98|\n",
      "|     2017-12|8466878.98|\n",
      "|     2017-11|6887667.01|\n",
      "|     2017-10|7077864.75|\n",
      "|     2017-09|7588821.83|\n",
      "|     2017-08|9043762.30|\n",
      "|     2017-07|4826303.21|\n",
      "|     2017-06|2983810.52|\n",
      "|     2017-05|3721099.67|\n",
      "|     2017-04|3418379.81|\n",
      "|     2017-03|7160669.35|\n",
      "|     2017-02|5864177.41|\n",
      "|     2017-01|5832695.94|\n",
      "|     2016-12|8152607.93|\n",
      "|     2016-11|6271338.86|\n",
      "|     2016-10|5478470.10|\n",
      "+------------+----------+\n",
      "only showing top 20 rows\n",
      "\n"
     ]
    }
   ],
   "source": [
    "# Get Donations by Month/Year\n",
    "df=spark.sql(\"SELECT SUBSTRING(DonationsHiveTable.`Donation Received Date`, 0,7) AS DonationDate, \\\n",
    "             SUM(CAST(DonationsHiveTable.`Donation Amount` AS DECIMAL(10,2))) AS Total \\\n",
    "             from DonationsHiveTable \\\n",
    "             GROUP BY DonationDate \\\n",
    "             ORDER BY DonationDate DESC\")\n",
    "df.show()"
   ]
  },
  {
   "cell_type": "code",
   "execution_count": 13,
   "metadata": {},
   "outputs": [
    {
     "data": {
      "text/plain": [
       "DataFrame[]"
      ]
     },
     "execution_count": 13,
     "metadata": {},
     "output_type": "execute_result"
    }
   ],
   "source": [
    "# Test Create table and export to csv\n",
    "# Get Donations by Year\n",
    "df=spark.sql(\"SELECT SUBSTRING(DonationsHiveTable.`Donation Received Date`, 0,4) AS DonationDate, \\\n",
    "             SUM(CAST(DonationsHiveTable.`Donation Amount` AS DECIMAL(10,2))) AS Total \\\n",
    "             from DonationsHiveTable \\\n",
    "             GROUP BY DonationDate \\\n",
    "             ORDER BY DonationDate DESC\")\n",
    "df.createOrReplaceTempView(\"TestTempTable\")\n",
    "spark.sql(\"create table TestTempTable as select * from TestTempTable\")"
   ]
  },
  {
   "cell_type": "code",
   "execution_count": null,
   "metadata": {},
   "outputs": [],
   "source": []
  }
 ],
 "metadata": {
  "kernelspec": {
   "display_name": "Python 3",
   "language": "python",
   "name": "python3"
  },
  "language_info": {
   "codemirror_mode": {
    "name": "ipython",
    "version": 3
   },
   "file_extension": ".py",
   "mimetype": "text/x-python",
   "name": "python",
   "nbconvert_exporter": "python",
   "pygments_lexer": "ipython3",
   "version": "3.6.6"
  }
 },
 "nbformat": 4,
 "nbformat_minor": 2
}
